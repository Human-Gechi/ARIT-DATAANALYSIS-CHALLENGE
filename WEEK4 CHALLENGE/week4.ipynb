{
 "cells": [
  {
   "cell_type": "code",
   "execution_count": null,
   "id": "c04b3c35",
   "metadata": {},
   "outputs": [],
   "source": [
    "import pandas as pd\n",
    "from sklearn.feature_extraction.text import CountVectorizer\n",
    "file = r\"C:\\Users\\HP\\OneDrive\\Desktop\\Arit data analysis\\WEEK1 CHALLENGE\\cleaned_data.csv\"\n",
    "data = pd.read_csv(file)\n",
    "data"
   ]
  },
  {
   "cell_type": "code",
   "execution_count": 3,
   "id": "195f89ad",
   "metadata": {},
   "outputs": [
    {
     "name": "stdout",
     "output_type": "stream",
     "text": [
      "<class 'pandas.core.frame.DataFrame'>\n",
      "RangeIndex: 541909 entries, 0 to 541908\n",
      "Data columns (total 9 columns):\n",
      " #   Column       Non-Null Count   Dtype         \n",
      "---  ------       --------------   -----         \n",
      " 0   InvoiceNo    541909 non-null  int64         \n",
      " 1   StockCode    541909 non-null  int64         \n",
      " 2   Description  540455 non-null  object        \n",
      " 3   Quantity     541909 non-null  int64         \n",
      " 4   InvoiceDate  541909 non-null  datetime64[ns]\n",
      " 5   UnitPrice    541909 non-null  float64       \n",
      " 6   CustomerID   541909 non-null  int64         \n",
      " 7   Country      541909 non-null  object        \n",
      " 8   Totalprice   541909 non-null  float64       \n",
      "dtypes: datetime64[ns](1), float64(2), int64(4), object(2)\n",
      "memory usage: 37.2+ MB\n"
     ]
    }
   ],
   "source": [
    "data[\"InvoiceDate\"] = pd.to_datetime(data[\"InvoiceDate\"], errors=\"coerce\")\n",
    "data.info()"
   ]
  },
  {
   "cell_type": "code",
   "execution_count": 4,
   "id": "b0a31c14",
   "metadata": {},
   "outputs": [
    {
     "data": {
      "text/plain": [
       "527754"
      ]
     },
     "execution_count": 4,
     "metadata": {},
     "output_type": "execute_result"
    }
   ],
   "source": [
    "#Are there Descriptions generating very little revenue despite being in stock?\n",
    "summary = len(data[data[\"Totalprice\"] < 100])\n",
    "summary"
   ]
  },
  {
   "cell_type": "code",
   "execution_count": 5,
   "id": "b0798d91",
   "metadata": {},
   "outputs": [],
   "source": [
    "#Which Descriptions have the highest quantity sold overall?\n",
    "description = data.loc[data[\"Quantity\"] == data[\"Quantity\"].max() , [\"Description\"]]\n",
    "description.to_csv(\"maxquantity.csv\")"
   ]
  },
  {
   "cell_type": "code",
   "execution_count": null,
   "id": "c7ca72cb",
   "metadata": {},
   "outputs": [
    {
     "name": "stdout",
     "output_type": "stream",
     "text": [
      "Consistent sellers across all months:\n"
     ]
    }
   ],
   "source": [
    "def bestseller(data):\n",
    "    data['InvoiceDate'] = pd.to_datetime(data['InvoiceDate'])\n",
    "    data['YearMonth'] = data['InvoiceDate'].dt.to_period('M')  \n",
    "\n",
    "    monthly_sales = data.groupby(['Description', 'YearMonth'])['Quantity'].sum().reset_index()\n",
    "    months_sold = monthly_sales[monthly_sales['Quantity'] > 0].groupby('Description').count()['YearMonth']\n",
    "\n",
    "    total_months = data['YearMonth'].nunique()\n",
    "    consistent_sellers = months_sold[months_sold == total_months]\n",
    "\n",
    "    print(\"Consistent sellers across all months:\")\n",
    "    consistent_sellers.to_csv(\"bestsellersmonths.csv\")\n",
    "bestseller(data)"
   ]
  },
  {
   "cell_type": "code",
   "execution_count": 10,
   "id": "6b13f433",
   "metadata": {},
   "outputs": [
    {
     "data": {
      "text/plain": [
       "541735"
      ]
     },
     "execution_count": 10,
     "metadata": {},
     "output_type": "execute_result"
    }
   ],
   "source": [
    "#Which Descriptions have very low sales quantities?\n",
    "value = len(data.loc[(data[\"Quantity\"] <= 1000) & (data['Quantity'] != 0), ['Description']])\n",
    "value"
   ]
  },
  {
   "cell_type": "code",
   "execution_count": null,
   "id": "04c43bb1",
   "metadata": {},
   "outputs": [
    {
     "data": {
      "text/html": [
       "<div>\n",
       "<style scoped>\n",
       "    .dataframe tbody tr th:only-of-type {\n",
       "        vertical-align: middle;\n",
       "    }\n",
       "\n",
       "    .dataframe tbody tr th {\n",
       "        vertical-align: top;\n",
       "    }\n",
       "\n",
       "    .dataframe thead th {\n",
       "        text-align: right;\n",
       "    }\n",
       "</style>\n",
       "<table border=\"1\" class=\"dataframe\">\n",
       "  <thead>\n",
       "    <tr style=\"text-align: right;\">\n",
       "      <th></th>\n",
       "      <th>Description</th>\n",
       "    </tr>\n",
       "  </thead>\n",
       "  <tbody>\n",
       "  </tbody>\n",
       "</table>\n",
       "</div>"
      ],
      "text/plain": [
       "Empty DataFrame\n",
       "Columns: [Description]\n",
       "Index: []"
      ]
     },
     "execution_count": 13,
     "metadata": {},
     "output_type": "execute_result"
    }
   ],
   "source": [
    "#productss not purchased\n",
    "not_purchased = data.loc[(data['UnitPrice'] == 0.0) & (data[\"Quantity\"]== 0.0), ['Description']]\n",
    "not_purchased # all purchased"
   ]
  },
  {
   "cell_type": "code",
   "execution_count": null,
   "id": "b153a1c1",
   "metadata": {},
   "outputs": [
    {
     "name": "stdout",
     "output_type": "stream",
     "text": [
      "WHITE HANGING HEART T-LIGHT HOLDER\n"
     ]
    }
   ],
   "source": [
    "# Most frequently purchased product\n",
    "frequently = data[\"Description\"].mode()[0]\n",
    "print(frequently)\n"
   ]
  },
  {
   "cell_type": "code",
   "execution_count": null,
   "id": "901668e9",
   "metadata": {},
   "outputs": [],
   "source": [
    "store_products = data.groupby([\"Country\", \"Description\"]).agg({\n",
    "    'Quantity': 'sum',\n",
    "    'Totalprice': 'sum'\n",
    "}).reset_index()\n",
    "top_per_country = store_products.loc[\n",
    "    store_products.groupby(\"Country\")[\"Totalprice\"].idxmax()\n",
    "]\n",
    "top_per_country.to_csv(\"Maxproductspercountry.csv\")\n"
   ]
  },
  {
   "cell_type": "code",
   "execution_count": 60,
   "id": "982901b8",
   "metadata": {},
   "outputs": [],
   "source": [
    "#Which products are candidates for discount promotions (low revenue but medium demand\n",
    "discount = data.loc[(data['Totalprice']< 5000 )& (data[\"Quantity\"].isin(range(5000,30000))) ]\n",
    "discount.to_csv(\"productsdiscount.csv\")"
   ]
  },
  {
   "cell_type": "code",
   "execution_count": null,
   "id": "2cc9d332",
   "metadata": {},
   "outputs": [],
   "source": [
    "\n",
    "\n",
    "data = data[data[\"Description\"].apply(lambda x: isinstance(x, str))].copy()\n",
    "data[\"Description\"] = data[\"Description\"].str.lower()\n",
    "\n",
    "vectorizer = CountVectorizer(stop_words=\"english\", ngram_range=(2,2))\n",
    "X = vectorizer.fit_transform(data[\"Description\"]) \n",
    "\n",
    "totalprice = data[\"Totalprice\"].values\n",
    "revenue_contrib = X.T @ totalprice\n",
    "\n",
    "phrase_revenue = pd.DataFrame({\n",
    "    \"Phrase\": vectorizer.get_feature_names_out(),\n",
    "    \"TotalRevenue\": revenue_contrib.ravel() \n",
    "}).sort_values(\"TotalRevenue\", ascending=False)\n",
    "phrase_revenue.to_csv(\"bigrams_revenue.csv\", index=False)\n"
   ]
  },
  {
   "cell_type": "code",
   "execution_count": null,
   "id": "702869f2",
   "metadata": {},
   "outputs": [],
   "source": [
    "#frequently bought year\n",
    "group_year = data.groupby(data[\"InvoiceDate\"].dt.month_name())[\"Description\"] \\\n",
    "                 .agg(lambda x: x.mode()[0])  # mode per group\n",
    "group_year.to_csv(\"month.csv\")"
   ]
  }
 ],
 "metadata": {
  "kernelspec": {
   "display_name": "Python 3",
   "language": "python",
   "name": "python3"
  },
  "language_info": {
   "codemirror_mode": {
    "name": "ipython",
    "version": 3
   },
   "file_extension": ".py",
   "mimetype": "text/x-python",
   "name": "python",
   "nbconvert_exporter": "python",
   "pygments_lexer": "ipython3",
   "version": "3.11.9"
  }
 },
 "nbformat": 4,
 "nbformat_minor": 5
}
